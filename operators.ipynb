{
 "cells": [
  {
   "cell_type": "markdown",
   "id": "517ef05f",
   "metadata": {},
   "source": [
    "### Arithmatic op."
   ]
  },
  {
   "cell_type": "code",
   "execution_count": 2,
   "id": "a244cf95",
   "metadata": {},
   "outputs": [
    {
     "name": "stdout",
     "output_type": "stream",
     "text": [
      "20\n",
      "0\n",
      "100\n",
      "2.0\n",
      "2\n",
      "0\n",
      "5\n",
      "32\n"
     ]
    }
   ],
   "source": [
    "print(10 + 10)\n",
    "print(10 - 10)\n",
    "print(10 * 10)\n",
    "print(10 / 5)\n",
    "print(10 // 5)  # floor division\n",
    "print(10 % 5)   # mod -->remainder\n",
    "print(5  % 10)\n",
    "print(2 ** 5)"
   ]
  },
  {
   "cell_type": "markdown",
   "id": "bb464cec",
   "metadata": {},
   "source": [
    "### Relation op."
   ]
  },
  {
   "cell_type": "code",
   "execution_count": 3,
   "id": "08f3992c",
   "metadata": {},
   "outputs": [
    {
     "name": "stdout",
     "output_type": "stream",
     "text": [
      "False\n",
      "False\n",
      "True\n",
      "True\n",
      "True\n",
      "False\n"
     ]
    }
   ],
   "source": [
    "print(10 > 10)\n",
    "print(10 < 10)\n",
    "print(10 >= 10)\n",
    "print(10 <= 10)\n",
    "print(10 == 10)\n",
    "print(10 != 10)"
   ]
  },
  {
   "cell_type": "markdown",
   "id": "5c15a687",
   "metadata": {},
   "source": [
    "### Logical op.\n",
    "- and ,or, not"
   ]
  },
  {
   "cell_type": "code",
   "execution_count": 6,
   "id": "0b4a9ac6",
   "metadata": {},
   "outputs": [
    {
     "name": "stdout",
     "output_type": "stream",
     "text": [
      "False\n"
     ]
    }
   ],
   "source": [
    "print(3 > 5 or 5 < 8 and 89 > 555)"
   ]
  },
  {
   "cell_type": "code",
   "execution_count": 7,
   "id": "9f381481",
   "metadata": {},
   "outputs": [
    {
     "name": "stdout",
     "output_type": "stream",
     "text": [
      "False\n"
     ]
    }
   ],
   "source": [
    "print(not(7 > 6))"
   ]
  },
  {
   "cell_type": "markdown",
   "id": "eb88d4ee",
   "metadata": {},
   "source": [
    "## Bitwise op.\n",
    "- & , | , <<, >>"
   ]
  },
  {
   "cell_type": "code",
   "execution_count": 8,
   "id": "f3dd6994",
   "metadata": {},
   "outputs": [
    {
     "name": "stdout",
     "output_type": "stream",
     "text": [
      "12\n"
     ]
    }
   ],
   "source": [
    "print( 45 & 78)"
   ]
  },
  {
   "cell_type": "code",
   "execution_count": 10,
   "id": "ddd3d275",
   "metadata": {},
   "outputs": [
    {
     "name": "stdout",
     "output_type": "stream",
     "text": [
      "111\n"
     ]
    }
   ],
   "source": [
    "print( 45 | 78)"
   ]
  },
  {
   "cell_type": "code",
   "execution_count": 11,
   "id": "8a561e81",
   "metadata": {},
   "outputs": [
    {
     "name": "stdout",
     "output_type": "stream",
     "text": [
      "144\n"
     ]
    }
   ],
   "source": [
    "print(36 << 2)"
   ]
  },
  {
   "cell_type": "code",
   "execution_count": 12,
   "id": "ed89bbbf",
   "metadata": {},
   "outputs": [
    {
     "name": "stdout",
     "output_type": "stream",
     "text": [
      "1\n"
     ]
    }
   ],
   "source": [
    "print(5 >> 2)"
   ]
  },
  {
   "cell_type": "code",
   "execution_count": null,
   "id": "304617c1",
   "metadata": {},
   "outputs": [],
   "source": []
  }
 ],
 "metadata": {
  "kernelspec": {
   "display_name": "Python 3 (ipykernel)",
   "language": "python",
   "name": "python3"
  },
  "language_info": {
   "codemirror_mode": {
    "name": "ipython",
    "version": 3
   },
   "file_extension": ".py",
   "mimetype": "text/x-python",
   "name": "python",
   "nbconvert_exporter": "python",
   "pygments_lexer": "ipython3",
   "version": "3.10.9"
  }
 },
 "nbformat": 4,
 "nbformat_minor": 5
}
