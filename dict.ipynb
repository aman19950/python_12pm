{
 "cells": [
  {
   "cell_type": "markdown",
   "id": "25b7c363",
   "metadata": {},
   "source": [
    "## Dict"
   ]
  },
  {
   "cell_type": "code",
   "execution_count": 2,
   "id": "dd783e18",
   "metadata": {},
   "outputs": [
    {
     "name": "stdout",
     "output_type": "stream",
     "text": [
      "{'a': 100, 'b': 200, 'c': 300}\n",
      "300\n"
     ]
    }
   ],
   "source": [
    "x = {\n",
    "    'a' : 100,\n",
    "    'b' : 200,\n",
    "    'c' : 300\n",
    "}\n",
    "print(x)\n",
    "print(x['c'])"
   ]
  },
  {
   "cell_type": "code",
   "execution_count": 7,
   "id": "0ed640a0",
   "metadata": {},
   "outputs": [
    {
     "name": "stdout",
     "output_type": "stream",
     "text": [
      "300\n",
      "key not found\n"
     ]
    }
   ],
   "source": [
    "x = {\n",
    "    'a' : 100,\n",
    "    'b' : 200,\n",
    "    'c' : 300\n",
    "}\n",
    "# print(x['d'])\n",
    "print(x.get('c'))\n",
    "print(x.get('d',\"key not found\"))"
   ]
  },
  {
   "cell_type": "code",
   "execution_count": 9,
   "id": "bff37815",
   "metadata": {},
   "outputs": [
    {
     "name": "stdout",
     "output_type": "stream",
     "text": [
      "{'a': 100, 'b': 200, 'c': 300, 'd': 5000}\n"
     ]
    }
   ],
   "source": [
    "x = {\n",
    "    'a' : 100,\n",
    "    'b' : 200,\n",
    "    'c' : 300\n",
    "}\n",
    "\n",
    "# x['b'] = 5000\n",
    "x['d']  = 5000\n",
    "print(x)"
   ]
  },
  {
   "cell_type": "code",
   "execution_count": 11,
   "id": "15dde177",
   "metadata": {},
   "outputs": [
    {
     "name": "stdout",
     "output_type": "stream",
     "text": [
      "{'a': 100, 'b': 200, 'c': 300, 1: 1000, 2.5: 5000}\n"
     ]
    }
   ],
   "source": [
    "x = {\n",
    "    'a' : 100,\n",
    "    'b' : 200,\n",
    "    'c' : 300,\n",
    "    1   : 1000,\n",
    "    2.5 : 5000\n",
    "}\n",
    "print(x)\n"
   ]
  },
  {
   "cell_type": "code",
   "execution_count": 12,
   "id": "24cb880c",
   "metadata": {},
   "outputs": [
    {
     "name": "stdout",
     "output_type": "stream",
     "text": [
      "dict_keys(['a', 'b', 'c'])\n",
      "dict_values([100, 200, 300])\n",
      "dict_items([('a', 100), ('b', 200), ('c', 300)])\n"
     ]
    }
   ],
   "source": [
    "x = {\n",
    "    'a' : 100,\n",
    "    'b' : 200,\n",
    "    'c' : 300\n",
    "}\n",
    "\n",
    "print(x.keys())\n",
    "print(x.values())\n",
    "print(x.items())"
   ]
  },
  {
   "cell_type": "code",
   "execution_count": 14,
   "id": "4378d905",
   "metadata": {},
   "outputs": [
    {
     "name": "stdout",
     "output_type": "stream",
     "text": [
      "{'a': 100, 'b': 200, 'c': 300, 'd': 400, 'e': 1000, 'f': 50000}\n"
     ]
    }
   ],
   "source": [
    "x = {\n",
    "    'a' : 100,\n",
    "    'b' : 200,\n",
    "    'c' : 300\n",
    "}\n",
    "# x['d'] = 500\n",
    "x.update({'d':400,'e':1000,'f':50000})\n",
    "print(x)"
   ]
  },
  {
   "cell_type": "code",
   "execution_count": 16,
   "id": "d2576aa2",
   "metadata": {},
   "outputs": [
    {
     "name": "stdout",
     "output_type": "stream",
     "text": [
      "{'a': 100, 'b': 200, 'c': 100}\n"
     ]
    }
   ],
   "source": [
    "x = {\n",
    "    'a' : 100,\n",
    "    'b' : 200,\n",
    "    'c' : 100,\n",
    "#     'a' : 500,\n",
    "}\n",
    "print(x)"
   ]
  },
  {
   "cell_type": "code",
   "execution_count": 24,
   "id": "0a9a44c3",
   "metadata": {},
   "outputs": [
    {
     "name": "stdout",
     "output_type": "stream",
     "text": [
      "present\n"
     ]
    }
   ],
   "source": [
    "x = {\n",
    "    'a' : 100,\n",
    "    'b' : 200,\n",
    "    'c' : 400,\n",
    "}\n",
    "if 100 in x.values():\n",
    "    print(\"present\")\n",
    "else:\n",
    "    print(\"not present\")"
   ]
  },
  {
   "cell_type": "code",
   "execution_count": 26,
   "id": "053797b2",
   "metadata": {},
   "outputs": [
    {
     "name": "stdout",
     "output_type": "stream",
     "text": [
      "a ---- 100\n",
      "b ---- 200\n",
      "c ---- 400\n"
     ]
    }
   ],
   "source": [
    "x = {\n",
    "    'a' : 100,\n",
    "    'b' : 200,\n",
    "    'c' : 400,\n",
    "}\n",
    "for i in x:\n",
    "    print(i,\"----\",x[i])"
   ]
  },
  {
   "cell_type": "code",
   "execution_count": 27,
   "id": "0bb4a990",
   "metadata": {},
   "outputs": [
    {
     "name": "stdout",
     "output_type": "stream",
     "text": [
      "a ---- 100\n",
      "b ---- 200\n",
      "c ---- 400\n"
     ]
    }
   ],
   "source": [
    "x = {\n",
    "    'a' : 100,\n",
    "    'b' : 200,\n",
    "    'c' : 400,\n",
    "}\n",
    "for i in x.keys():\n",
    "    print(i,\"----\",x[i])"
   ]
  },
  {
   "cell_type": "code",
   "execution_count": 28,
   "id": "a510dc46",
   "metadata": {},
   "outputs": [
    {
     "name": "stdout",
     "output_type": "stream",
     "text": [
      "100 ----\n",
      "200 ----\n",
      "400 ----\n"
     ]
    }
   ],
   "source": [
    "x = {\n",
    "    'a' : 100,\n",
    "    'b' : 200,\n",
    "    'c' : 400,\n",
    "}\n",
    "for i in x.values():\n",
    "    print(i,\"----\")"
   ]
  },
  {
   "cell_type": "code",
   "execution_count": 33,
   "id": "2318b155",
   "metadata": {},
   "outputs": [
    {
     "name": "stdout",
     "output_type": "stream",
     "text": [
      "a ---- 100\n",
      "b ---- 200\n",
      "c ---- 400\n"
     ]
    }
   ],
   "source": [
    "x = {\n",
    "    'a' : 100,\n",
    "    'b' : 200,\n",
    "    'c' : 400,\n",
    "}\n",
    "for i,j in x.items():\n",
    "    print(i,\"----\",j)"
   ]
  },
  {
   "cell_type": "code",
   "execution_count": 37,
   "id": "ce761603",
   "metadata": {},
   "outputs": [
    {
     "name": "stdout",
     "output_type": "stream",
     "text": [
      "{'a': (100, 20, 30, 45, 67), 'b': [200, 40, 'hello'], 'c': {400, 34, 3, 56, 45}}\n"
     ]
    }
   ],
   "source": [
    "x = {\n",
    "    'a' : (100,20,30,45,67),\n",
    "    'b' : [200,40,\"hello\"],\n",
    "    'c' : {400,56,45,3,34}\n",
    "}\n",
    "print(x)"
   ]
  },
  {
   "cell_type": "code",
   "execution_count": 38,
   "id": "ef7929c3",
   "metadata": {},
   "outputs": [
    {
     "name": "stdout",
     "output_type": "stream",
     "text": [
      "{'a': 0, 'b': 0, 'c': 0}\n"
     ]
    }
   ],
   "source": [
    "x = ['a','b','c']\n",
    "y = 0\n",
    "\n",
    "z = {}\n",
    "# z = {'a':0,'b':0,'c':0}\n",
    "for i in x:\n",
    "    z[i] = y\n",
    "print(z)"
   ]
  },
  {
   "cell_type": "code",
   "execution_count": 40,
   "id": "48e93f0d",
   "metadata": {},
   "outputs": [
    {
     "name": "stdout",
     "output_type": "stream",
     "text": [
      "{'a': 1, 'b': 2, 'c': 3}\n"
     ]
    }
   ],
   "source": [
    "x = ['a','b','c']\n",
    "y = [1,2,3]\n",
    "\n",
    "z = {}\n",
    "# z = {'a':1,'b':2,'c':3}\n",
    "for i in range(len(x)):\n",
    "    z.update({x[i] : y[i]})\n",
    "print(z)\n"
   ]
  },
  {
   "cell_type": "code",
   "execution_count": 42,
   "id": "d5a76fa2",
   "metadata": {},
   "outputs": [
    {
     "name": "stdout",
     "output_type": "stream",
     "text": [
      "[1, 2, 3, 10]\n",
      "((4, 5, 6), 100)\n"
     ]
    }
   ],
   "source": [
    "x = {\n",
    "    1 : [1,2,3],\n",
    "    2 : (4,5,6)\n",
    "}\n",
    "x[1].append(10)\n",
    "print(x[1])\n",
    "y = [x[2]]\n",
    "y.append(100)\n",
    "x[2] = tuple(y)\n",
    "print(x[2])"
   ]
  },
  {
   "cell_type": "code",
   "execution_count": 43,
   "id": "821ecda6",
   "metadata": {},
   "outputs": [
    {
     "name": "stdout",
     "output_type": "stream",
     "text": [
      "{0: 1, 1: 1, 2: 1}\n"
     ]
    }
   ],
   "source": [
    "x = {}\n",
    "for i in range(0,3):\n",
    "    for j in range(0,2):\n",
    "        x[i] = j\n",
    "print(x)"
   ]
  },
  {
   "cell_type": "code",
   "execution_count": 50,
   "id": "49c6e649",
   "metadata": {},
   "outputs": [
    {
     "name": "stdout",
     "output_type": "stream",
     "text": [
      "{'a': 100, 'c': 300}\n",
      "200\n"
     ]
    }
   ],
   "source": [
    "x = {\n",
    "    'a':100,\n",
    "    'b':200,\n",
    "    'c':300\n",
    "}\n",
    "# del x['a']\n",
    "z = x.pop('b')\n",
    "# z = x.popitem()\n",
    "# x.clear()\n",
    "print(x)\n",
    "print(z)"
   ]
  },
  {
   "cell_type": "code",
   "execution_count": 51,
   "id": "328fe066",
   "metadata": {},
   "outputs": [
    {
     "name": "stdout",
     "output_type": "stream",
     "text": [
      "{'a': 100, 'c': 300, 'd': 200}\n"
     ]
    }
   ],
   "source": [
    "x = {\n",
    "    'a':100,\n",
    "    'b':200,\n",
    "    'c':300\n",
    "}\n",
    "y  = x.pop('b')\n",
    "x['d'] = y\n",
    "print(x)"
   ]
  },
  {
   "cell_type": "code",
   "execution_count": null,
   "id": "eafacc3e",
   "metadata": {},
   "outputs": [],
   "source": [
    "x = [\n",
    "    [1,2,3],\n",
    "    [3,4,5]\n",
    "]\n",
    "\n",
    "#output\n",
    "z = {1:[1,2,3],2:[3,4,5]}\n",
    "# Q2 output\n",
    "z = {1:1,2:4,3:9,4:16,5:25}"
   ]
  },
  {
   "cell_type": "code",
   "execution_count": 2,
   "id": "98236cfe",
   "metadata": {},
   "outputs": [
    {
     "name": "stdout",
     "output_type": "stream",
     "text": [
      "{1: [1, 2, 3], 2: [3, 4, 5]}\n"
     ]
    }
   ],
   "source": [
    "x = [\n",
    "    [1,2,3],\n",
    "    [3,4,5]\n",
    "]\n",
    "z = {}\n",
    "\n",
    "for i in range(len(x)):\n",
    "    z.update({i+1:x[i]})\n",
    "print(z)"
   ]
  },
  {
   "cell_type": "markdown",
   "id": "7be1480d",
   "metadata": {},
   "source": [
    "## Nested dict"
   ]
  },
  {
   "cell_type": "code",
   "execution_count": 5,
   "id": "ec303545",
   "metadata": {},
   "outputs": [
    {
     "data": {
      "text/plain": [
       "42"
      ]
     },
     "execution_count": 5,
     "metadata": {},
     "output_type": "execute_result"
    }
   ],
   "source": [
    "x = {\n",
    "    'a': {\n",
    "        'name':'sonu',\n",
    "        'age':14\n",
    "        },\n",
    "    'b':{\n",
    "        'name':'monu',\n",
    "        'age':42\n",
    "    }\n",
    "}\n",
    "x['b']['age']"
   ]
  },
  {
   "cell_type": "code",
   "execution_count": 7,
   "id": "0e7a2b6b",
   "metadata": {},
   "outputs": [
    {
     "name": "stdout",
     "output_type": "stream",
     "text": [
      "c\n"
     ]
    }
   ],
   "source": [
    "x = {\n",
    "    1:{\n",
    "        'a':{'b':2,'c':4},\n",
    "        '2':\"c\"\n",
    "    },\n",
    "    'c':'d',\n",
    "    'd':'b'\n",
    "}\n",
    "\n",
    "# print(x[1]['a']['2'])\n",
    "print(x[1]['2'])"
   ]
  },
  {
   "cell_type": "code",
   "execution_count": 9,
   "id": "f8daca37",
   "metadata": {},
   "outputs": [
    {
     "name": "stdout",
     "output_type": "stream",
     "text": [
      "182\n"
     ]
    }
   ],
   "source": [
    "x = [11,2,13,14,5]\n",
    "x.sort()\n",
    "\n",
    "print(x[-1]*x[-2])"
   ]
  },
  {
   "cell_type": "code",
   "execution_count": 10,
   "id": "440621de",
   "metadata": {},
   "outputs": [
    {
     "name": "stdout",
     "output_type": "stream",
     "text": [
      "pYtHoN PrOgRaMmInG\n"
     ]
    }
   ],
   "source": [
    "word = \"Python Programming\"\n",
    "n = len(word)\n",
    "word1 = word.upper()\n",
    "word2 = word.lower()\n",
    "converted_word = \"\"\n",
    "for i in range(n):\n",
    "    if i % 2 == 0:\n",
    "        converted_word += word2[i]\n",
    "    else:\n",
    "         converted_word += word1[i]\n",
    "print(converted_word)\n",
    "# a. pYtHoN PrOgRaMmInG\n",
    "# b. Python Programming\n",
    "# c. python programming\n",
    "# d. PYTHON PROGRAMMING"
   ]
  },
  {
   "cell_type": "code",
   "execution_count": 11,
   "id": "6a0372b2",
   "metadata": {},
   "outputs": [
    {
     "name": "stdout",
     "output_type": "stream",
     "text": [
      "[1, 2]\n"
     ]
    }
   ],
   "source": [
    "a = [1, 2, 3, 4]\n",
    "b = [3, 4, 5, 6]\n",
    "c = [x for x in a if x not in b]\n",
    "print(c)\n",
    "# a. [1, 2]\n",
    "# b. [5, 6]\n",
    "# c. [1, 2, 5, 6]\n",
    "# d. [3, 4]"
   ]
  },
  {
   "cell_type": "code",
   "execution_count": 12,
   "id": "07223b56",
   "metadata": {},
   "outputs": [
    {
     "name": "stdout",
     "output_type": "stream",
     "text": [
      "False\n"
     ]
    }
   ],
   "source": [
    "# What happens when '2' == 2 is executed?\n",
    "# a)\tFalse\n",
    "# b)\tTure\n",
    "# c)\tValueError occurs\n",
    "# d)\tTypeError occurs\n",
    "print(\"2\" == 2)"
   ]
  },
  {
   "cell_type": "code",
   "execution_count": 20,
   "id": "625d99e0",
   "metadata": {},
   "outputs": [
    {
     "name": "stdout",
     "output_type": "stream",
     "text": [
      "{'a': 12, 'b': 2, 'c': 31, 'd': 4}\n"
     ]
    }
   ],
   "source": [
    "x = {'a':1,'b':2,'c':3,'d':4}\n",
    "y = {'a':12,'c':31}\n",
    "\n",
    "#output\n",
    "# z = {'a':12,'b':2,'c':31,'d':4}\n",
    "z = {}\n",
    "for i in x:\n",
    "    if i in y:\n",
    "        z.update({i: y[i]})\n",
    "    else:\n",
    "        z.update({i:x[i]})\n",
    "        \n",
    "print(z)"
   ]
  },
  {
   "cell_type": "code",
   "execution_count": 22,
   "id": "151f9247",
   "metadata": {},
   "outputs": [
    {
     "name": "stdout",
     "output_type": "stream",
     "text": [
      "4\n"
     ]
    }
   ],
   "source": [
    "x = {1:2,3:3,4:5}\n",
    "print(x.get(5,4))"
   ]
  },
  {
   "cell_type": "code",
   "execution_count": null,
   "id": "1fe08175",
   "metadata": {},
   "outputs": [],
   "source": [
    "x = {'a':2,'b':4,'c':1}\n",
    "\n",
    "z = {}"
   ]
  }
 ],
 "metadata": {
  "kernelspec": {
   "display_name": "Python 3 (ipykernel)",
   "language": "python",
   "name": "python3"
  },
  "language_info": {
   "codemirror_mode": {
    "name": "ipython",
    "version": 3
   },
   "file_extension": ".py",
   "mimetype": "text/x-python",
   "name": "python",
   "nbconvert_exporter": "python",
   "pygments_lexer": "ipython3",
   "version": "3.10.9"
  }
 },
 "nbformat": 4,
 "nbformat_minor": 5
}
