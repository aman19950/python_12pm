{
 "cells": [
  {
   "cell_type": "code",
   "execution_count": 9,
   "id": "6761fb05",
   "metadata": {},
   "outputs": [
    {
     "name": "stdout",
     "output_type": "stream",
     "text": [
      "[1, 2, 3]\n",
      "[1, 2, 3, 10]\n",
      "[1, 2, 3, 10]\n",
      "1369773355776\n",
      "1369773355776\n"
     ]
    }
   ],
   "source": [
    "x = [1,2,3]\n",
    "y = x\n",
    "print(y)\n",
    "y.append(10)\n",
    "print(x)\n",
    "print(y)\n",
    "print(id(x))\n",
    "print(id(y))"
   ]
  },
  {
   "cell_type": "code",
   "execution_count": 3,
   "id": "f9584e3a",
   "metadata": {},
   "outputs": [
    {
     "name": "stdout",
     "output_type": "stream",
     "text": [
      "[[1, 2, 3, 10]]\n",
      "[[1, 2, 3, 10]]\n"
     ]
    }
   ],
   "source": [
    "x = [[1,2,3]]\n",
    "y = x\n",
    "y[0].append(10)\n",
    "print(x)\n",
    "print(y)\n"
   ]
  },
  {
   "cell_type": "code",
   "execution_count": 6,
   "id": "f47cf7c2",
   "metadata": {},
   "outputs": [
    {
     "name": "stdout",
     "output_type": "stream",
     "text": [
      "[[1, 2, 3, 10]]\n",
      "[[1, 2, 3, 10]]\n",
      "1369805597760\n",
      "1369816338304\n"
     ]
    }
   ],
   "source": [
    "#shallow copy\n",
    "import copy\n",
    "x = [[1,2,3]]\n",
    "y = copy.copy(x)\n",
    "y[0].append(10)\n",
    "print(x)\n",
    "print(y)\n",
    "print(id(x))\n",
    "print(id(y))"
   ]
  },
  {
   "cell_type": "code",
   "execution_count": 10,
   "id": "9b686997",
   "metadata": {},
   "outputs": [
    {
     "name": "stdout",
     "output_type": "stream",
     "text": [
      "[[1, 2, 3]]\n",
      "[[1, 2, 3, 10]]\n",
      "1369805774592\n",
      "1369806515008\n"
     ]
    }
   ],
   "source": [
    "import copy\n",
    "x = [[1,2,3]]\n",
    "y = copy.deepcopy(x)\n",
    "y[0].append(10)\n",
    "print(x)\n",
    "print(y)\n",
    "print(id(x))\n",
    "print(id(y))"
   ]
  },
  {
   "cell_type": "code",
   "execution_count": null,
   "id": "4b3a405e",
   "metadata": {},
   "outputs": [],
   "source": []
  }
 ],
 "metadata": {
  "kernelspec": {
   "display_name": "Python 3 (ipykernel)",
   "language": "python",
   "name": "python3"
  },
  "language_info": {
   "codemirror_mode": {
    "name": "ipython",
    "version": 3
   },
   "file_extension": ".py",
   "mimetype": "text/x-python",
   "name": "python",
   "nbconvert_exporter": "python",
   "pygments_lexer": "ipython3",
   "version": "3.10.9"
  }
 },
 "nbformat": 4,
 "nbformat_minor": 5
}
