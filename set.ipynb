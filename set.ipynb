{
 "cells": [
  {
   "cell_type": "code",
   "execution_count": 1,
   "id": "52ba10cf",
   "metadata": {},
   "outputs": [
    {
     "name": "stdout",
     "output_type": "stream",
     "text": [
      "{1, 2, 4.5, 6, 456, 'hello'}\n"
     ]
    }
   ],
   "source": [
    "x = {1, \"hello\", 4.5, 2, 456, 6, 1 }\n",
    "print(x)"
   ]
  },
  {
   "cell_type": "code",
   "execution_count": 5,
   "id": "1b92986c",
   "metadata": {},
   "outputs": [
    {
     "name": "stdout",
     "output_type": "stream",
     "text": [
      "{1, 3, 5, 235, 12, 'gfh', 78, 'hii'}\n"
     ]
    }
   ],
   "source": [
    "x = {5,3,12,1}\n",
    "x.add(78)\n",
    "x.add(\"hii\")\n",
    "x.add(235)\n",
    "x.add(\"gfh\")\n",
    "print(x)"
   ]
  },
  {
   "cell_type": "code",
   "execution_count": 13,
   "id": "6d22667e",
   "metadata": {},
   "outputs": [
    {
     "name": "stdout",
     "output_type": "stream",
     "text": [
      "{1, 2, 3, 4}\n",
      "{1, 2, 3, 4, 5, 6, 7, 8}\n"
     ]
    }
   ],
   "source": [
    "x = {1,2,3,4}\n",
    "y = {8,5,6,7}\n",
    "\n",
    "# x.update(y)\n",
    "\n",
    "z = x.union(y)\n",
    "\n",
    "print(x)\n",
    "print(z)"
   ]
  },
  {
   "cell_type": "code",
   "execution_count": 17,
   "id": "880df8ab",
   "metadata": {},
   "outputs": [
    {
     "name": "stdout",
     "output_type": "stream",
     "text": [
      "{2, 3}\n"
     ]
    }
   ],
   "source": [
    "x = {1,2,3,4}\n",
    "y = {1,5,6,4}\n",
    "\n",
    "z = x.difference_update(y)\n",
    "s = x.symmetric_difference(y)\n",
    "u = x.intersection(y)\n",
    "print(z)\n",
    "print(s)\n",
    "print(u)"
   ]
  },
  {
   "cell_type": "code",
   "execution_count": 28,
   "id": "ba4ccd6c",
   "metadata": {},
   "outputs": [
    {
     "name": "stdout",
     "output_type": "stream",
     "text": [
      "set()\n"
     ]
    }
   ],
   "source": [
    "x= {11,22,33,44,55}\n",
    "# x.remove(33)\n",
    "# x.remove(66)\n",
    "# x.discard(33)\n",
    "# x.discard(66)\n",
    "# del x\n",
    "# x.pop()\n",
    "# x.pop()\n",
    "x.clear()\n",
    "z = set() #empty set\n",
    "print(x)"
   ]
  },
  {
   "cell_type": "code",
   "execution_count": 29,
   "id": "ac807722",
   "metadata": {},
   "outputs": [
    {
     "name": "stdout",
     "output_type": "stream",
     "text": [
      "{'b', 'c', 'a'}\n"
     ]
    }
   ],
   "source": [
    "x = set(\"abc\")\n",
    "print(x)"
   ]
  },
  {
   "cell_type": "code",
   "execution_count": null,
   "id": "b34bdd86",
   "metadata": {},
   "outputs": [],
   "source": []
  }
 ],
 "metadata": {
  "kernelspec": {
   "display_name": "Python 3 (ipykernel)",
   "language": "python",
   "name": "python3"
  },
  "language_info": {
   "codemirror_mode": {
    "name": "ipython",
    "version": 3
   },
   "file_extension": ".py",
   "mimetype": "text/x-python",
   "name": "python",
   "nbconvert_exporter": "python",
   "pygments_lexer": "ipython3",
   "version": "3.10.9"
  }
 },
 "nbformat": 4,
 "nbformat_minor": 5
}
