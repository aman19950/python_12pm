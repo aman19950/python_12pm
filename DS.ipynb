{
 "cells": [
  {
   "cell_type": "markdown",
   "id": "a0a2b480",
   "metadata": {},
   "source": [
    "## List"
   ]
  },
  {
   "cell_type": "code",
   "execution_count": null,
   "id": "e91ecdb2",
   "metadata": {},
   "outputs": [],
   "source": [
    "x = [1, \"hello\", 5.7, 'hi', True,1,1]\n",
    "\n",
    "\n",
    "print(x)\n",
    "print(x[3])\n",
    "x[3] = 10000\n",
    "print(x)"
   ]
  },
  {
   "cell_type": "code",
   "execution_count": null,
   "id": "96dc9fd3",
   "metadata": {},
   "outputs": [],
   "source": [
    "x = [1, \"hello\", 5.7, 'hi', True,1,1]\n",
    "\n",
    "\n",
    "# print(type(x[1:4]))\n",
    "x[1:4] = [10000,6,7]\n",
    "print(x)"
   ]
  },
  {
   "cell_type": "markdown",
   "id": "63bc2fd6",
   "metadata": {},
   "source": [
    "### Nested List"
   ]
  },
  {
   "cell_type": "code",
   "execution_count": null,
   "id": "5c31e214",
   "metadata": {},
   "outputs": [],
   "source": [
    "x = [1, 2, [3, 4, 5, [6, 7, 8, 9], 10, 11], 12]\n",
    "\n",
    "\n",
    "\n",
    "print(x[2][3][2])\n",
    "x[2][3][2] = \"hello\"\n",
    "print(x)"
   ]
  },
  {
   "cell_type": "markdown",
   "id": "6a42e5b0",
   "metadata": {},
   "source": [
    "## List Functions "
   ]
  },
  {
   "cell_type": "code",
   "execution_count": null,
   "id": "b4bb4884",
   "metadata": {},
   "outputs": [],
   "source": [
    "x = [1,2,3,4]\n",
    "x.append(\"hello\")\n",
    "x.insert(0,\"heyyy\")\n",
    "x.extend([89,23,213,23,232])\n",
    "print(x)"
   ]
  },
  {
   "cell_type": "code",
   "execution_count": null,
   "id": "e70b5841",
   "metadata": {},
   "outputs": [],
   "source": [
    "x = [1,2,3,4]\n",
    "x.append([54,56,45,4])\n",
    "print(x)"
   ]
  },
  {
   "cell_type": "code",
   "execution_count": null,
   "id": "04a7f597",
   "metadata": {},
   "outputs": [],
   "source": [
    "# Q1\n",
    "x = [[1, 2, 3, [4, 5, 6, [7, 8, 9], 10, 11], 12]]\n",
    "\n",
    "\n",
    "\n",
    "# x = [[1, 2, 3, [4, 5, 6, [7, 8, 9,1000], 10, 11], 12]]\n",
    "# x[0][3][3].append(1000)\n",
    "# print(x)\n",
    "\n",
    "# x = [[1, 2, 3, [4, 5, 6, [7, 8, 9],2000, 10, 11], 12]]\n",
    "# x[0][3].insert(4,2000)\n",
    "# print(x)\n",
    "\n",
    "# x = [[1, 2, 3, [4, 5,3000, 6, [7, 8, 9], 10, 11], 12]]\n",
    "x[0][3].insert(2,3000)\n",
    "print(x)"
   ]
  },
  {
   "cell_type": "code",
   "execution_count": null,
   "id": "4c914bc0",
   "metadata": {},
   "outputs": [],
   "source": [
    "x = [11,22,33,44,55,44,44,4466]\n",
    "# x.remove(44)\n",
    "# del x[0:2]\n",
    "# del x\n",
    "# z = x.pop()\n",
    "# z = x.pop(0)\n",
    "c = x.clear()\n",
    "print(x)\n",
    "z =  []\n",
    "# print(z)"
   ]
  },
  {
   "cell_type": "code",
   "execution_count": null,
   "id": "fa9699bc",
   "metadata": {},
   "outputs": [],
   "source": [
    "x = [11,22,44,33,44,55,44,44,44]\n",
    "\n",
    "z = []\n",
    "for i in range(len(x)):\n",
    "    if x[i] != 44:\n",
    "        z.append(x[i])\n",
    "#     print(i,\"----\",x[i])\n",
    "print(z)"
   ]
  },
  {
   "cell_type": "code",
   "execution_count": null,
   "id": "845283c3",
   "metadata": {},
   "outputs": [],
   "source": [
    "x = [11,22,44,33,44,55,44,44,44]\n",
    "\n",
    "while 44 in x:\n",
    "    x.remove(44)\n",
    "print(x)"
   ]
  },
  {
   "cell_type": "code",
   "execution_count": null,
   "id": "c5853b22",
   "metadata": {},
   "outputs": [],
   "source": [
    "x = [1,2,3]*3\n",
    "print(x)"
   ]
  },
  {
   "cell_type": "code",
   "execution_count": null,
   "id": "5b403c39",
   "metadata": {},
   "outputs": [],
   "source": [
    "x = [[]]*3\n",
    "# x = [[1,2,3],[4,5,6]]\n",
    "# x[0].append(10)\n",
    "print(id(x[0]))\n",
    "print(id(x[1]))\n",
    "print(id(x[2]))\n",
    "print(x[0] is x[1])"
   ]
  },
  {
   "cell_type": "code",
   "execution_count": null,
   "id": "b472a4c3",
   "metadata": {},
   "outputs": [],
   "source": [
    "x = [1,2,3]\n",
    "y = [1,2,3]\n",
    "print(id(x))\n",
    "print(id(y))\n",
    "print(x == y)\n",
    "print(x is y)"
   ]
  },
  {
   "cell_type": "code",
   "execution_count": null,
   "id": "18c7d88a",
   "metadata": {},
   "outputs": [],
   "source": [
    "x = [1,22,3,3,22,56]\n",
    "\n",
    "print(min(x))\n",
    "print(max(x))\n",
    "print(sum(x))\n",
    "x.sort(reverse = True)\n",
    "print(x)\n"
   ]
  },
  {
   "cell_type": "code",
   "execution_count": null,
   "id": "03498ca2",
   "metadata": {},
   "outputs": [],
   "source": [
    "# x = [1,22,3,\"hello\",3,22,56]\n",
    "# x = ['hi',\"hello\",\"bye\"]\n",
    "x = [1,22,3,True,3,22,56]\n",
    "\n",
    "print(min(x))\n",
    "print(max(x))\n",
    "# print(sum(x))\n",
    "x.sort(reverse = True)\n",
    "print(x)\n"
   ]
  },
  {
   "cell_type": "code",
   "execution_count": null,
   "id": "f1ad3f8f",
   "metadata": {},
   "outputs": [],
   "source": [
    "x = [\"hello\",\"hi\",\"bye\",\"hello\"]\n",
    "print(len(x))\n",
    "print(x.index(\"hi\"))\n",
    "print(x.count(\"56\"))"
   ]
  },
  {
   "cell_type": "code",
   "execution_count": null,
   "id": "7e6497f1",
   "metadata": {},
   "outputs": [],
   "source": [
    "x = [\"hello\",\"hi\",\"bye\"]\n",
    "\n",
    "# for i in x:\n",
    "#     print(i)\n",
    "\n",
    "# for i in range(len(x)):\n",
    "#     print(i,\"---\",x[i])\n",
    "\n",
    "if \"hi\" not in x:\n",
    "    print(\"present\")\n",
    "else:\n",
    "    print(\"not present\")"
   ]
  },
  {
   "cell_type": "code",
   "execution_count": null,
   "id": "b700f969",
   "metadata": {},
   "outputs": [],
   "source": [
    "x = [\"hello\",\"hi\"]\n",
    "y = [\"sonu\",\"monu\"]\n",
    "\n",
    "#output\n",
    "# z = [\"hello sonu\",\"hello monu\",\"hi sonu\",\"hi monu\"]\n",
    "z = []\n",
    "for i in x:\n",
    "    for j in y:\n",
    "        z.append(i+\" \"+j)\n",
    "print(z)"
   ]
  },
  {
   "cell_type": "code",
   "execution_count": null,
   "id": "8b5cdf3b",
   "metadata": {},
   "outputs": [],
   "source": [
    "#input\n",
    "x = [\"hello\",\"hi\"]\n",
    "y = [\"sonu\",\"monu\"]\n",
    "\n",
    "\n",
    "z = [i+\" \"+j for i in x for j in y]\n",
    "print(z)"
   ]
  },
  {
   "cell_type": "code",
   "execution_count": null,
   "id": "a36a8f51",
   "metadata": {},
   "outputs": [],
   "source": [
    "z = [i for i in range(1,11,2)]\n",
    "z"
   ]
  },
  {
   "cell_type": "code",
   "execution_count": null,
   "id": "ac8332b1",
   "metadata": {},
   "outputs": [],
   "source": [
    "#input\n",
    "x = [\"m\",\"na\",\"i\",\"am\"]\n",
    "y = [\"y\",\"me\",\"s\",\"an\"]\n",
    "\n",
    "#output\n",
    "# z = [\"my\",\"name\",\"is\",\"aman\",]\n",
    "z = []\n",
    "for i in range(len(x)):\n",
    "    z.append(x[i]+y[i])\n",
    "\n",
    "print(z)"
   ]
  },
  {
   "cell_type": "code",
   "execution_count": null,
   "id": "c9cf2431",
   "metadata": {},
   "outputs": [],
   "source": [
    "#input\n",
    "x = [1,2,2,3,3,3,4,4,5]\n",
    "\n",
    "#output\n",
    "# z = [1,2,3,4,5]\n",
    "z = []\n",
    "for i in x:\n",
    "    if i not in z:\n",
    "        z.append(i)\n",
    "print(z)"
   ]
  },
  {
   "cell_type": "code",
   "execution_count": null,
   "id": "2fcf3d97",
   "metadata": {},
   "outputs": [],
   "source": [
    "x = [\"sun\",\"mon\",\"Tue\",\"Wed\",\"Thr\",\"Fri\",\"sat\"]\n",
    "print(x[-1][-2])"
   ]
  },
  {
   "cell_type": "code",
   "execution_count": null,
   "id": "d8c96039",
   "metadata": {},
   "outputs": [],
   "source": [
    "x = ['1221',\"abc\",\"bccb\",\"78887\",\"1223\"]\n",
    "\n",
    "for i in x:\n",
    "    if len(i) > 3 and i[0] == i[-1]:\n",
    "        print(i)"
   ]
  },
  {
   "cell_type": "code",
   "execution_count": null,
   "id": "c4dbf470",
   "metadata": {},
   "outputs": [],
   "source": [
    "# Q1\n",
    "# create a list from user input with in a given range\n",
    "# Q2\n",
    "x = [1,2,3]\n",
    "y = [3,4,5]\n",
    "print(x+y)\n",
    "# print(x-y)"
   ]
  },
  {
   "cell_type": "code",
   "execution_count": 2,
   "id": "dc687e61",
   "metadata": {},
   "outputs": [
    {
     "name": "stdout",
     "output_type": "stream",
     "text": [
      "enter your range = 5\n",
      "enter your elements = 54\n",
      "enter your elements = hello\n",
      "enter your elements = 89\n",
      "enter your elements = hi\n",
      "enter your elements = 890\n",
      "[54, 'hello', 89, 'hi', 890]\n"
     ]
    }
   ],
   "source": [
    "# create a list from user input with in a given range\n",
    "num = int(input(\"enter your range = \"))\n",
    "\n",
    "z = []\n",
    "for i in range(1,num+1):\n",
    "    ele = input(\"enter your elements = \")\n",
    "    if ele.isdigit():\n",
    "        z.append(int(ele))\n",
    "    else:\n",
    "        z.append(ele)\n",
    "print(z)"
   ]
  },
  {
   "cell_type": "code",
   "execution_count": 3,
   "id": "434cabbc",
   "metadata": {},
   "outputs": [
    {
     "name": "stdout",
     "output_type": "stream",
     "text": [
      "Total sum =  15\n",
      "Total prod =  120\n"
     ]
    }
   ],
   "source": [
    "z  = [1,2,3,4,5]\n",
    "s  = 0\n",
    "m  = 1\n",
    "for i in z:\n",
    "    s = s + i\n",
    "    m = m * i\n",
    "print(\"Total sum = \",s)\n",
    "print(\"Total prod = \",m)"
   ]
  },
  {
   "cell_type": "code",
   "execution_count": null,
   "id": "c41d87d3",
   "metadata": {},
   "outputs": [],
   "source": []
  }
 ],
 "metadata": {
  "kernelspec": {
   "display_name": "Python 3 (ipykernel)",
   "language": "python",
   "name": "python3"
  },
  "language_info": {
   "codemirror_mode": {
    "name": "ipython",
    "version": 3
   },
   "file_extension": ".py",
   "mimetype": "text/x-python",
   "name": "python",
   "nbconvert_exporter": "python",
   "pygments_lexer": "ipython3",
   "version": "3.10.9"
  }
 },
 "nbformat": 4,
 "nbformat_minor": 5
}
