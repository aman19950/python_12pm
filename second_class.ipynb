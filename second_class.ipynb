{
 "cells": [
  {
   "cell_type": "code",
   "execution_count": 5,
   "id": "53d77a70",
   "metadata": {},
   "outputs": [
    {
     "name": "stdout",
     "output_type": "stream",
     "text": [
      "11\n",
      "4\n"
     ]
    }
   ],
   "source": [
    "x = \"12323234234\"\n",
    "print(len(x))\n",
    "print(x.count('2'))"
   ]
  },
  {
   "cell_type": "code",
   "execution_count": 6,
   "id": "3866a49b",
   "metadata": {},
   "outputs": [
    {
     "name": "stdout",
     "output_type": "stream",
     "text": [
      "h\n",
      "l\n"
     ]
    }
   ],
   "source": [
    "x = \"hello\"\n",
    "print(x[0])\n",
    "print(x[-2])"
   ]
  },
  {
   "cell_type": "code",
   "execution_count": 11,
   "id": "4c7e340a",
   "metadata": {},
   "outputs": [
    {
     "name": "stdout",
     "output_type": "stream",
     "text": [
      "hello world\n"
     ]
    }
   ],
   "source": [
    "x = \"hello world\"\n",
    "print(x[0:11:2]) # x[start:stop:step]\n"
   ]
  },
  {
   "cell_type": "code",
   "execution_count": 5,
   "id": "329a3e8a",
   "metadata": {},
   "outputs": [
    {
     "name": "stdout",
     "output_type": "stream",
     "text": [
      "20\n",
      "hi\n",
      "you\n"
     ]
    }
   ],
   "source": [
    "x = \"hello how are you hi\"\n",
    "\n",
    "# print(x[-3:-2])\n",
    "# print(x[-3:-1])\n",
    "# print(x[-4:-1])\n",
    "# print(x[-3:0])\n",
    "# output:\n",
    "# y = len(x)\n",
    "# print(y)\n",
    "# print(x[-2:len(x)])\n",
    "# print(x[14:17])\n",
    "# you"
   ]
  },
  {
   "cell_type": "code",
   "execution_count": 7,
   "id": "344f753a",
   "metadata": {},
   "outputs": [
    {
     "name": "stdout",
     "output_type": "stream",
     "text": [
      "you\n",
      "hell\n"
     ]
    }
   ],
   "source": [
    "x = \"hello how are you\"\n",
    "print(x[-3: ])\n",
    "print(x[ : 4])"
   ]
  },
  {
   "cell_type": "code",
   "execution_count": 8,
   "id": "2a950902",
   "metadata": {},
   "outputs": [
    {
     "name": "stdout",
     "output_type": "stream",
     "text": [
      "HELLO HOW ARE YOU\n",
      "hello how are you\n",
      "Hello How Are You\n",
      "Hello how are you\n"
     ]
    }
   ],
   "source": [
    "x = \"hello how are you\"\n",
    "print(x.upper())\n",
    "print(x.lower())\n",
    "print(x.title())\n",
    "print(x.capitalize())"
   ]
  },
  {
   "cell_type": "code",
   "execution_count": 14,
   "id": "1e3aaa45",
   "metadata": {},
   "outputs": [
    {
     "name": "stdout",
     "output_type": "stream",
     "text": [
      "False\n",
      "False\n",
      "False\n",
      "True\n",
      "True\n",
      "True\n"
     ]
    }
   ],
   "source": [
    "x = \"12\"\n",
    "print(x.isupper())   # False\n",
    "print(x.islower())   # True\n",
    "print(x.isalpha())   # True\n",
    "print(x.isalnum())   # True\n",
    "print(x.isdigit())   # False\n",
    "print(x.isnumeric())"
   ]
  },
  {
   "cell_type": "code",
   "execution_count": 4,
   "id": "985bea95",
   "metadata": {},
   "outputs": [
    {
     "name": "stdout",
     "output_type": "stream",
     "text": [
      "1.2999999999999998\n"
     ]
    }
   ],
   "source": [
    "#homework\n",
    "#print((0.1+0.2) == 0.3)\n",
    "print(0.7+0.6)"
   ]
  },
  {
   "cell_type": "code",
   "execution_count": 1,
   "id": "c42aa53f",
   "metadata": {},
   "outputs": [
    {
     "name": "stdout",
     "output_type": "stream",
     "text": [
      "14\n",
      "0\n",
      "-1\n",
      "11\n"
     ]
    }
   ],
   "source": [
    "x = \"hello how ahe you\"\n",
    "print(x.index('y'))\n",
    "print(x.index('h'))\n",
    "# print(x.index('s'))\n",
    "# print(x.find('h'))\n",
    "print(x.find('s'))\n",
    "print(x.rindex('h'))"
   ]
  },
  {
   "cell_type": "code",
   "execution_count": 33,
   "id": "ccac0245",
   "metadata": {},
   "outputs": [
    {
     "name": "stdout",
     "output_type": "stream",
     "text": [
      "hiello hiow are you\n"
     ]
    }
   ],
   "source": [
    "x = \"hello how are you\"\n",
    "\n",
    "# print(x.replace(\"hello\",\"hi\"))\n",
    "print(x.replace('h',\"hi\",2))"
   ]
  },
  {
   "cell_type": "code",
   "execution_count": null,
   "id": "1e39cc04",
   "metadata": {},
   "outputs": [],
   "source": []
  }
 ],
 "metadata": {
  "kernelspec": {
   "display_name": "Python 3 (ipykernel)",
   "language": "python",
   "name": "python3"
  },
  "language_info": {
   "codemirror_mode": {
    "name": "ipython",
    "version": 3
   },
   "file_extension": ".py",
   "mimetype": "text/x-python",
   "name": "python",
   "nbconvert_exporter": "python",
   "pygments_lexer": "ipython3",
   "version": "3.10.9"
  }
 },
 "nbformat": 4,
 "nbformat_minor": 5
}
