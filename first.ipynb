{
 "cells": [
  {
   "cell_type": "code",
   "execution_count": 5,
   "id": "28fbfc15",
   "metadata": {},
   "outputs": [
    {
     "name": "stdout",
     "output_type": "stream",
     "text": [
      "hello how are you\n",
      "hello how are you\n",
      "90\n",
      "7.8\n",
      "True\n"
     ]
    }
   ],
   "source": [
    "print(\"hello how are you\") #string\n",
    "print('hello how are you') #string\n",
    "print(90)   #int\n",
    "print(7.8) # float\n",
    "print(True) # bool"
   ]
  },
  {
   "cell_type": "code",
   "execution_count": 8,
   "id": "37a3e7bc",
   "metadata": {},
   "outputs": [
    {
     "name": "stdout",
     "output_type": "stream",
     "text": [
      "<class 'str'>\n",
      "<class 'str'>\n"
     ]
    }
   ],
   "source": [
    "# print(78)\n",
    "print(type(\"hello\"))\n",
    "print(type(\"89\"))"
   ]
  },
  {
   "cell_type": "code",
   "execution_count": 9,
   "id": "3cee25e1",
   "metadata": {},
   "outputs": [
    {
     "name": "stdout",
     "output_type": "stream",
     "text": [
      "9.0\n"
     ]
    }
   ],
   "source": [
    "print(9.0)"
   ]
  },
  {
   "cell_type": "code",
   "execution_count": 15,
   "id": "f4c27a50",
   "metadata": {},
   "outputs": [
    {
     "name": "stdout",
     "output_type": "stream",
     "text": [
      "10\n",
      "55\n",
      "55555\n"
     ]
    },
    {
     "ename": "TypeError",
     "evalue": "can't multiply sequence by non-int of type 'str'",
     "output_type": "error",
     "traceback": [
      "\u001b[1;31m---------------------------------------------------------------------------\u001b[0m",
      "\u001b[1;31mTypeError\u001b[0m                                 Traceback (most recent call last)",
      "Cell \u001b[1;32mIn[15], line 5\u001b[0m\n\u001b[0;32m      3\u001b[0m \u001b[38;5;28mprint\u001b[39m(\u001b[38;5;124m\"\u001b[39m\u001b[38;5;124m5\u001b[39m\u001b[38;5;124m\"\u001b[39m\u001b[38;5;241m+\u001b[39m\u001b[38;5;124m\"\u001b[39m\u001b[38;5;124m5\u001b[39m\u001b[38;5;124m\"\u001b[39m)\n\u001b[0;32m      4\u001b[0m \u001b[38;5;28mprint\u001b[39m(\u001b[38;5;124m\"\u001b[39m\u001b[38;5;124m5\u001b[39m\u001b[38;5;124m\"\u001b[39m \u001b[38;5;241m*\u001b[39m \u001b[38;5;241m5\u001b[39m)\n\u001b[1;32m----> 5\u001b[0m \u001b[38;5;28mprint\u001b[39m(\u001b[38;5;124;43m\"\u001b[39;49m\u001b[38;5;124;43m5\u001b[39;49m\u001b[38;5;124;43m\"\u001b[39;49m\u001b[43m \u001b[49m\u001b[38;5;241;43m*\u001b[39;49m\u001b[43m \u001b[49m\u001b[38;5;124;43m\"\u001b[39;49m\u001b[38;5;124;43m5\u001b[39;49m\u001b[38;5;124;43m\"\u001b[39;49m)\n",
      "\u001b[1;31mTypeError\u001b[0m: can't multiply sequence by non-int of type 'str'"
     ]
    }
   ],
   "source": [
    "print(5+5)\n",
    "# print(\"5\" + 5)\n",
    "print(\"5\"+\"5\")\n",
    "print(\"5\" * 5)\n",
    "print(\"5\" * \"5\")"
   ]
  },
  {
   "cell_type": "code",
   "execution_count": 17,
   "id": "9229433c",
   "metadata": {},
   "outputs": [
    {
     "name": "stdout",
     "output_type": "stream",
     "text": [
      "hello 'how' are you\n",
      "hello \"how\" are you\n"
     ]
    }
   ],
   "source": [
    "print(\"hello 'how' are you\")\n",
    "print('hello \"how\" are you')"
   ]
  },
  {
   "cell_type": "code",
   "execution_count": 18,
   "id": "11520486",
   "metadata": {},
   "outputs": [
    {
     "ename": "SyntaxError",
     "evalue": "invalid syntax. Perhaps you forgot a comma? (183651214.py, line 1)",
     "output_type": "error",
     "traceback": [
      "\u001b[1;36m  Cell \u001b[1;32mIn[18], line 1\u001b[1;36m\u001b[0m\n\u001b[1;33m    print(\"hello \"how\" are you\")\u001b[0m\n\u001b[1;37m          ^\u001b[0m\n\u001b[1;31mSyntaxError\u001b[0m\u001b[1;31m:\u001b[0m invalid syntax. Perhaps you forgot a comma?\n"
     ]
    }
   ],
   "source": [
    "print(\"hello \"how\" are you\")"
   ]
  },
  {
   "cell_type": "markdown",
   "id": "fdd846c9",
   "metadata": {},
   "source": [
    "## Escape character\n",
    "- \\\n",
    "- \\t --  one tab space\n",
    "- \\n -- new line/next line"
   ]
  },
  {
   "cell_type": "code",
   "execution_count": 19,
   "id": "4219957d",
   "metadata": {},
   "outputs": [
    {
     "name": "stdout",
     "output_type": "stream",
     "text": [
      "hello \"how\" are you\n"
     ]
    }
   ],
   "source": [
    "print(\"hello \\\"how\\\" are you\")"
   ]
  },
  {
   "cell_type": "code",
   "execution_count": 20,
   "id": "54152e99",
   "metadata": {},
   "outputs": [
    {
     "name": "stdout",
     "output_type": "stream",
     "text": [
      "hello\t\t\thow are you\n"
     ]
    }
   ],
   "source": [
    "print(\"hello\\t\\t\\thow are you\")"
   ]
  },
  {
   "cell_type": "code",
   "execution_count": 21,
   "id": "58224313",
   "metadata": {},
   "outputs": [
    {
     "name": "stdout",
     "output_type": "stream",
     "text": [
      "hello\n",
      "how are you\n"
     ]
    }
   ],
   "source": [
    "print(\"hello\\nhow are you\")"
   ]
  },
  {
   "cell_type": "code",
   "execution_count": 27,
   "id": "bd974f69",
   "metadata": {},
   "outputs": [
    {
     "name": "stdout",
     "output_type": "stream",
     "text": [
      "\\n\n"
     ]
    }
   ],
   "source": [
    "print(\"\\\\n\")"
   ]
  },
  {
   "cell_type": "markdown",
   "id": "d0d67f79",
   "metadata": {},
   "source": [
    "## variables\n",
    "### Rules\n",
    "- variables can start with alphabets(not complusory)\n",
    "- ( _ ) underscore is the only sp. char. which is allowed to create variables\n",
    "\n",
    "- cannot be start with numbers\n",
    "- #,@,\n",
    "- keywords are not allowed to create variables"
   ]
  },
  {
   "cell_type": "code",
   "execution_count": 28,
   "id": "fa39c307",
   "metadata": {},
   "outputs": [],
   "source": [
    "x = 7\n",
    "y = \"hello\"\n",
    "z = 7.8"
   ]
  },
  {
   "cell_type": "code",
   "execution_count": 39,
   "id": "b05450c7",
   "metadata": {},
   "outputs": [
    {
     "name": "stdout",
     "output_type": "stream",
     "text": [
      "20\n",
      "50\n"
     ]
    }
   ],
   "source": [
    "print(15 + 5)\n",
    "print(20 + 30)"
   ]
  },
  {
   "cell_type": "code",
   "execution_count": 44,
   "id": "c679c159",
   "metadata": {},
   "outputs": [
    {
     "name": "stdout",
     "output_type": "stream",
     "text": [
      "2808352932208\n",
      "2808352932208\n"
     ]
    }
   ],
   "source": [
    "x = 5\n",
    "y = 5\n",
    "\n",
    "print(id(x))\n",
    "print(id(y))"
   ]
  },
  {
   "cell_type": "code",
   "execution_count": 48,
   "id": "172f9efe",
   "metadata": {},
   "outputs": [
    {
     "name": "stdout",
     "output_type": "stream",
     "text": [
      "False\n"
     ]
    }
   ],
   "source": [
    "# print(5 > 5)\n",
    "print(\"HELLO\" > \"Hello\")"
   ]
  },
  {
   "cell_type": "code",
   "execution_count": 47,
   "id": "db5eadbc",
   "metadata": {},
   "outputs": [
    {
     "name": "stdout",
     "output_type": "stream",
     "text": [
      "72\n",
      "104\n"
     ]
    }
   ],
   "source": [
    "print(ord('H'))\n",
    "print(ord(\"h\"))"
   ]
  },
  {
   "cell_type": "code",
   "execution_count": 52,
   "id": "ce9570f4",
   "metadata": {},
   "outputs": [
    {
     "name": "stdout",
     "output_type": "stream",
     "text": [
      "̐\n"
     ]
    }
   ],
   "source": [
    "print(chr(78))\n",
    "# print(ord(\"h\"))"
   ]
  },
  {
   "cell_type": "code",
   "execution_count": 56,
   "id": "bfb61763",
   "metadata": {},
   "outputs": [
    {
     "name": "stdout",
     "output_type": "stream",
     "text": [
      "enter a number = hello\n"
     ]
    },
    {
     "ename": "ValueError",
     "evalue": "invalid literal for int() with base 10: 'hello'",
     "output_type": "error",
     "traceback": [
      "\u001b[1;31m---------------------------------------------------------------------------\u001b[0m",
      "\u001b[1;31mValueError\u001b[0m                                Traceback (most recent call last)",
      "Cell \u001b[1;32mIn[56], line 1\u001b[0m\n\u001b[1;32m----> 1\u001b[0m x \u001b[38;5;241m=\u001b[39m \u001b[38;5;28;43mint\u001b[39;49m\u001b[43m(\u001b[49m\u001b[38;5;28;43minput\u001b[39;49m\u001b[43m(\u001b[49m\u001b[38;5;124;43m\"\u001b[39;49m\u001b[38;5;124;43menter a number = \u001b[39;49m\u001b[38;5;124;43m\"\u001b[39;49m\u001b[43m)\u001b[49m\u001b[43m)\u001b[49m\n\u001b[0;32m      2\u001b[0m y \u001b[38;5;241m=\u001b[39m \u001b[38;5;28mfloat\u001b[39m(\u001b[38;5;28minput\u001b[39m(\u001b[38;5;124m\"\u001b[39m\u001b[38;5;124menter a number = \u001b[39m\u001b[38;5;124m\"\u001b[39m))\n\u001b[0;32m      3\u001b[0m z \u001b[38;5;241m=\u001b[39m x \u001b[38;5;241m+\u001b[39m y\n",
      "\u001b[1;31mValueError\u001b[0m: invalid literal for int() with base 10: 'hello'"
     ]
    }
   ],
   "source": [
    "x = int(input(\"enter a number = \"))\n",
    "y = float(input(\"enter a number = \"))\n",
    "z = x + y\n",
    "print(z)"
   ]
  },
  {
   "cell_type": "code",
   "execution_count": 59,
   "id": "3d0c3f96",
   "metadata": {},
   "outputs": [
    {
     "name": "stdout",
     "output_type": "stream",
     "text": [
      "<class 'str'>\n",
      "<class 'int'>\n"
     ]
    }
   ],
   "source": [
    "x = \"5\"\n",
    "print(type(x))\n",
    "y = int(x)\n",
    "print(type(y))"
   ]
  },
  {
   "cell_type": "code",
   "execution_count": null,
   "id": "bee95349",
   "metadata": {},
   "outputs": [],
   "source": []
  }
 ],
 "metadata": {
  "kernelspec": {
   "display_name": "Python 3 (ipykernel)",
   "language": "python",
   "name": "python3"
  },
  "language_info": {
   "codemirror_mode": {
    "name": "ipython",
    "version": 3
   },
   "file_extension": ".py",
   "mimetype": "text/x-python",
   "name": "python",
   "nbconvert_exporter": "python",
   "pygments_lexer": "ipython3",
   "version": "3.10.9"
  }
 },
 "nbformat": 4,
 "nbformat_minor": 5
}
