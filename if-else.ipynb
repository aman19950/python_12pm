{
 "cells": [
  {
   "cell_type": "markdown",
   "id": "33bef255",
   "metadata": {},
   "source": [
    "## If-else"
   ]
  },
  {
   "cell_type": "code",
   "execution_count": 6,
   "id": "f8a4134d",
   "metadata": {},
   "outputs": [
    {
     "name": "stdout",
     "output_type": "stream",
     "text": [
      "hello\n",
      "hi\n",
      "heyyy\n"
     ]
    }
   ],
   "source": [
    "if(10 < 15):\n",
    "    print(\"hello\")\n",
    "    print(\"hi\")\n",
    "    print(\"heyyy\")\n",
    "else:\n",
    "    print(\"bye\")"
   ]
  },
  {
   "cell_type": "code",
   "execution_count": 7,
   "id": "ffe00f3e",
   "metadata": {},
   "outputs": [
    {
     "name": "stdout",
     "output_type": "stream",
     "text": [
      "one\n",
      "ten\n",
      "10.5\n",
      "-89\n",
      "hi\n",
      "true\n"
     ]
    }
   ],
   "source": [
    "if(1):\n",
    "    print(\"one\")\n",
    "\n",
    "if(0):\n",
    "    print(\"zero\")\n",
    "\n",
    "if(10):\n",
    "    print(\"ten\")\n",
    "\n",
    "if(10.5):\n",
    "    print(\"10.5\")\n",
    "\n",
    "if(-89):\n",
    "    print(\"-89\")\n",
    "\n",
    "if(\"hello\"):\n",
    "    print(\"hi\")\n",
    "\n",
    "if(True):\n",
    "    print(\"true\")\n",
    "\n",
    "if(False):\n",
    "    print(\"false\")\n",
    "\n",
    "if(None):\n",
    "    print(\"None\")"
   ]
  },
  {
   "cell_type": "markdown",
   "id": "20c34731",
   "metadata": {},
   "source": [
    "## if-elif-else"
   ]
  },
  {
   "cell_type": "code",
   "execution_count": 14,
   "id": "326b68f4",
   "metadata": {},
   "outputs": [
    {
     "name": "stdout",
     "output_type": "stream",
     "text": [
      "bye\n"
     ]
    }
   ],
   "source": [
    "if(20 > 35):\n",
    "    print(\"hello\")\n",
    "elif(10 > 55):\n",
    "    print(\"hey\")\n",
    "elif(30 > 120):\n",
    "    print(\"hi\")\n",
    "else:\n",
    "    print(\"bye\")"
   ]
  },
  {
   "cell_type": "code",
   "execution_count": 19,
   "id": "21f6ba86",
   "metadata": {},
   "outputs": [
    {
     "name": "stdout",
     "output_type": "stream",
     "text": [
      "enter a number = 378465635\n",
      "Buzz\n"
     ]
    }
   ],
   "source": [
    "# Q1\n",
    "x = int(input(\"enter a number = \"))\n",
    "\n",
    "if (x %3 == 0 and x %5 == 0):\n",
    "    print(\"fizzBuzz\")\n",
    "elif(x %5 == 0):\n",
    "    print(\"Buzz\")\n",
    "elif(x %3 == 0):\n",
    "    print(\"fizz\")\n",
    "else:\n",
    "    print(\"this no is not divisble by 3 or 5 =\",x)"
   ]
  },
  {
   "cell_type": "code",
   "execution_count": 23,
   "id": "3b583398",
   "metadata": {},
   "outputs": [
    {
     "name": "stdout",
     "output_type": "stream",
     "text": [
      "enter a 1st side = 56\n",
      "enter a 2nd side = 6\n",
      "enter a 3rd side = 7\n",
      "sca. tri.\n"
     ]
    }
   ],
   "source": [
    "s1 = int(input(\"enter a 1st side = \"))\n",
    "s2 = int(input(\"enter a 2nd side = \"))\n",
    "s3 = int(input(\"enter a 3rd side = \"))\n",
    "\n",
    "if(s1 == s2 == s3):\n",
    "    print(\"eq. tri.\")\n",
    "elif(s1 == s2 or s2 == s3 or s1 == s3):\n",
    "    print(\"iso. tri\")\n",
    "else:\n",
    "    print(\"sca. tri.\")"
   ]
  },
  {
   "cell_type": "markdown",
   "id": "476fc5e9",
   "metadata": {},
   "source": [
    "## Nested If"
   ]
  },
  {
   "cell_type": "code",
   "execution_count": 29,
   "id": "b5d05ad3",
   "metadata": {},
   "outputs": [
    {
     "name": "stdout",
     "output_type": "stream",
     "text": [
      "hello\n",
      "bye 1\n"
     ]
    }
   ],
   "source": [
    "if(10 > 5):\n",
    "    print(\"hello\")\n",
    "    if(20 < 5):\n",
    "        print(\"hey\")\n",
    "        if(17 > 7):\n",
    "            print(\"hi\")\n",
    "        else:\n",
    "            print(\"bye\")\n",
    "    else:\n",
    "        print(\"bye 1\")\n",
    "else:\n",
    "    print(\"bye 2\")"
   ]
  },
  {
   "cell_type": "code",
   "execution_count": 31,
   "id": "12285731",
   "metadata": {},
   "outputs": [
    {
     "name": "stdout",
     "output_type": "stream",
     "text": [
      "enter a 1st number = 5\n",
      "enter a 2nd number = 6\n",
      "please 1.press '+' for add\n",
      "2.press '-' for sub\n",
      "3. press '/' for div.\n",
      "-\n",
      "-1\n"
     ]
    }
   ],
   "source": [
    "# Q3\n",
    "num_1 = int(input(\"enter a 1st number = \"))\n",
    "num_2 = int(input(\"enter a 2nd number = \"))\n",
    "choice = input(\"please 1.press '+' for add\\n2.press '-' for sub\\n3. press '/' for div.\\n\")\n",
    "\n",
    "if (choice == '+'):\n",
    "    add = num_1 + num_2\n",
    "    print(add)\n",
    "elif (choice == '-'):\n",
    "    sub = num_1 - num_2\n",
    "    print(sub)\n",
    "elif (choice == '/'):\n",
    "    div = num_1 / num_2\n",
    "    print(div)"
   ]
  },
  {
   "cell_type": "code",
   "execution_count": null,
   "id": "a2497c21",
   "metadata": {},
   "outputs": [],
   "source": []
  }
 ],
 "metadata": {
  "kernelspec": {
   "display_name": "Python 3 (ipykernel)",
   "language": "python",
   "name": "python3"
  },
  "language_info": {
   "codemirror_mode": {
    "name": "ipython",
    "version": 3
   },
   "file_extension": ".py",
   "mimetype": "text/x-python",
   "name": "python",
   "nbconvert_exporter": "python",
   "pygments_lexer": "ipython3",
   "version": "3.10.9"
  }
 },
 "nbformat": 4,
 "nbformat_minor": 5
}
