{
 "cells": [
  {
   "cell_type": "code",
   "execution_count": 4,
   "id": "45b136a5",
   "metadata": {},
   "outputs": [
    {
     "name": "stdout",
     "output_type": "stream",
     "text": [
      "enter the year = 2016\n",
      "leap year\n"
     ]
    }
   ],
   "source": [
    "year  = int(input(\"enter the year = \"))\n",
    "\n",
    "if (year% 400 == 0 and year%100 == 0):\n",
    "    print(\"leap year\")\n",
    "elif(year%4 == 0 and year%100 != 0):\n",
    "    print(\"leap year\")\n",
    "else:\n",
    "    print(\"not leap year\")"
   ]
  },
  {
   "cell_type": "code",
   "execution_count": 6,
   "id": "904d48a5",
   "metadata": {},
   "outputs": [
    {
     "name": "stdout",
     "output_type": "stream",
     "text": [
      "enter the 1st number = 5\n",
      "enter the 2nd number = 7\n",
      "y is greater\n"
     ]
    }
   ],
   "source": [
    "x =  int(input(\"enter the 1st number = \"))\n",
    "y = int(input(\"enter the 2nd number = \"))\n",
    "\n",
    "if (x > 0 and y > 0):\n",
    "    if (x >y):\n",
    "        print(\"x is greater\")\n",
    "    elif(x == y):\n",
    "        print(\"x is eq.\")\n",
    "        \n",
    "    else:\n",
    "        print(\"y is greater\")\n",
    "        "
   ]
  },
  {
   "cell_type": "markdown",
   "id": "593d554d",
   "metadata": {},
   "source": [
    "### Loops"
   ]
  },
  {
   "cell_type": "code",
   "execution_count": 9,
   "id": "d3193f47",
   "metadata": {},
   "outputs": [
    {
     "name": "stdout",
     "output_type": "stream",
     "text": [
      "1 3 5 7 9 "
     ]
    }
   ],
   "source": [
    "for i in range(1,10,2):\n",
    "    print(i,end=\" \")"
   ]
  },
  {
   "cell_type": "code",
   "execution_count": 10,
   "id": "416f7301",
   "metadata": {},
   "outputs": [
    {
     "name": "stdout",
     "output_type": "stream",
     "text": [
      "1 2 3 4 5 6 7 8 9 "
     ]
    }
   ],
   "source": [
    "for i in range(1,10):\n",
    "    print(i,end=\" \")"
   ]
  },
  {
   "cell_type": "code",
   "execution_count": 11,
   "id": "6193ef8f",
   "metadata": {},
   "outputs": [
    {
     "name": "stdout",
     "output_type": "stream",
     "text": [
      "0 1 2 3 4 5 6 7 8 9 "
     ]
    }
   ],
   "source": [
    "for i in range(10):\n",
    "    print(i,end=\" \")"
   ]
  },
  {
   "cell_type": "code",
   "execution_count": 12,
   "id": "f3d691fe",
   "metadata": {},
   "outputs": [
    {
     "name": "stdout",
     "output_type": "stream",
     "text": [
      "2 4 6 8 10 12 14 16 18 20 22 24 26 28 30 32 34 36 38 40 42 44 46 48 50 52 54 56 58 60 62 64 66 68 70 72 74 76 78 80 82 84 86 88 90 92 94 96 98 100 "
     ]
    }
   ],
   "source": [
    "## even numbers\n",
    "\n",
    "for i in range(2,101,2):\n",
    "    print(i,end=\" \")"
   ]
  },
  {
   "cell_type": "code",
   "execution_count": 13,
   "id": "fccf392c",
   "metadata": {},
   "outputs": [
    {
     "name": "stdout",
     "output_type": "stream",
     "text": [
      "10 9 8 7 6 5 4 3 2 1 "
     ]
    }
   ],
   "source": [
    "for i in range(10,0,-1):\n",
    "    print(i,end=\" \")"
   ]
  },
  {
   "cell_type": "code",
   "execution_count": 14,
   "id": "4860a1b0",
   "metadata": {},
   "outputs": [
    {
     "name": "stdout",
     "output_type": "stream",
     "text": [
      "enter  your range = 10\n",
      "1 2 3 4 5 6 7 8 9 10 "
     ]
    }
   ],
   "source": [
    "x = int(input(\"enter  your range = \"))\n",
    "\n",
    "for i in range(1,x+1):\n",
    "    print(i,end=\" \")"
   ]
  },
  {
   "cell_type": "code",
   "execution_count": 19,
   "id": "1d74903a",
   "metadata": {},
   "outputs": [
    {
     "name": "stdout",
     "output_type": "stream",
     "text": [
      "0 --- h\n",
      "1 --- e\n",
      "2 --- l\n",
      "3 --- l\n",
      "4 --- o\n"
     ]
    }
   ],
   "source": [
    "# for i in 6:\n",
    "#     print(i)\n",
    "x =\"hello\"\n",
    "# for i in x[: :2]:\n",
    "#     print(i)\n",
    "\n",
    "for i in range(len(x)):\n",
    "    print(i,\"---\",x[i])"
   ]
  },
  {
   "cell_type": "markdown",
   "id": "d012d695",
   "metadata": {},
   "source": [
    "### while Loop"
   ]
  },
  {
   "cell_type": "code",
   "execution_count": 29,
   "id": "2eee92f3",
   "metadata": {},
   "outputs": [
    {
     "name": "stdout",
     "output_type": "stream",
     "text": [
      "hello\n",
      "hello\n",
      "hello\n",
      "hello\n",
      "hello\n",
      "hello\n",
      "bye\n"
     ]
    }
   ],
   "source": [
    "i = 0\n",
    "while(i<=5):\n",
    "    print(\"hello\")\n",
    "    i = i + 1\n",
    "else:\n",
    "    print(\"bye\")"
   ]
  },
  {
   "cell_type": "markdown",
   "id": "bab25ca5",
   "metadata": {},
   "source": [
    "### Break,Continue and pass"
   ]
  },
  {
   "cell_type": "code",
   "execution_count": 23,
   "id": "1747ae45",
   "metadata": {},
   "outputs": [
    {
     "name": "stdout",
     "output_type": "stream",
     "text": [
      "1\n",
      "2\n"
     ]
    }
   ],
   "source": [
    "for i in range(1,5):\n",
    "    if (i == 3):\n",
    "        break\n",
    "    print(i)"
   ]
  },
  {
   "cell_type": "code",
   "execution_count": 24,
   "id": "e40c45c2",
   "metadata": {},
   "outputs": [
    {
     "name": "stdout",
     "output_type": "stream",
     "text": [
      "1\n",
      "2\n",
      "4\n"
     ]
    }
   ],
   "source": [
    "for i in range(1,5):\n",
    "    if (i == 3):\n",
    "        continue\n",
    "    print(i)"
   ]
  },
  {
   "cell_type": "code",
   "execution_count": 28,
   "id": "e5ddfec2",
   "metadata": {},
   "outputs": [],
   "source": [
    "for i in range(1,5):\n",
    "    pass"
   ]
  },
  {
   "cell_type": "code",
   "execution_count": 32,
   "id": "d41ef4aa",
   "metadata": {},
   "outputs": [
    {
     "name": "stdout",
     "output_type": "stream",
     "text": [
      "0\n",
      "1\n",
      "2\n",
      "3\n",
      "4\n"
     ]
    }
   ],
   "source": [
    "i = 0\n",
    "while(i <=5):\n",
    "    if(i == 5):\n",
    "        break\n",
    "    print(i)\n",
    "    i = i+1\n",
    "    \n",
    "else:\n",
    "    print(\"bye\")"
   ]
  },
  {
   "cell_type": "markdown",
   "id": "31c04192",
   "metadata": {},
   "source": [
    "## Nested for"
   ]
  },
  {
   "cell_type": "code",
   "execution_count": 34,
   "id": "a47f4910",
   "metadata": {},
   "outputs": [
    {
     "name": "stdout",
     "output_type": "stream",
     "text": [
      "* \n",
      "* * \n",
      "* * * \n",
      "* * * * \n",
      "* * * * * \n"
     ]
    }
   ],
   "source": [
    "for i in range(1,6):\n",
    "    for j in range(i):\n",
    "        print(\"*\",end=\" \")\n",
    "    print()"
   ]
  },
  {
   "cell_type": "code",
   "execution_count": 35,
   "id": "d0889568",
   "metadata": {},
   "outputs": [
    {
     "name": "stdout",
     "output_type": "stream",
     "text": [
      "* \n",
      "* * \n",
      "* * * \n",
      "* * * * \n",
      "* * * * * \n"
     ]
    }
   ],
   "source": [
    "i = 1\n",
    "while(i <= 5):\n",
    "    print(\"* \"*i)\n",
    "    i = i+1"
   ]
  },
  {
   "cell_type": "code",
   "execution_count": 39,
   "id": "c25713f7",
   "metadata": {},
   "outputs": [
    {
     "name": "stdout",
     "output_type": "stream",
     "text": [
      "    * \n",
      "   * * \n",
      "  * * * \n",
      " * * * * \n",
      "* * * * * \n"
     ]
    }
   ],
   "source": [
    "i = 1\n",
    "while(i <= 5):\n",
    "    print(\" \"*(5-i)+\"* \"*i)\n",
    "    i = i+1"
   ]
  },
  {
   "cell_type": "code",
   "execution_count": 42,
   "id": "b7035be7",
   "metadata": {},
   "outputs": [
    {
     "name": "stdout",
     "output_type": "stream",
     "text": [
      "enter a number = 6\n",
      "the factor of  6 is =  1\n",
      "the factor of  6 is =  2\n",
      "the factor of  6 is =  3\n",
      "the factor of  6 is =  6\n"
     ]
    }
   ],
   "source": [
    "# Q1\n",
    "x = int(input(\"enter a number = \"))\n",
    "for i in range(1,x+1):\n",
    "    if(x%i == 0):\n",
    "        print(\"the factor of \",x,\"is = \",i)\n"
   ]
  },
  {
   "cell_type": "code",
   "execution_count": 45,
   "id": "3c0820b3",
   "metadata": {},
   "outputs": [
    {
     "name": "stdout",
     "output_type": "stream",
     "text": [
      "6\n",
      "75\n"
     ]
    }
   ],
   "source": [
    "## swapping\n",
    "x = 75\n",
    "y = 6\n",
    "\n",
    "temp = x\n",
    "x = y\n",
    "y = temp\n",
    "\n",
    "\n",
    "print(x)\n",
    "print(y)"
   ]
  },
  {
   "cell_type": "code",
   "execution_count": 46,
   "id": "b1f4da7d",
   "metadata": {},
   "outputs": [
    {
     "name": "stdout",
     "output_type": "stream",
     "text": [
      "6\n",
      "75\n"
     ]
    }
   ],
   "source": [
    "## swapping\n",
    "x = 75\n",
    "y = 6\n",
    "\n",
    "x,y = y,x\n",
    "\n",
    "print(x)\n",
    "print(y)"
   ]
  },
  {
   "cell_type": "code",
   "execution_count": 4,
   "id": "ffb14034",
   "metadata": {},
   "outputs": [
    {
     "name": "stdout",
     "output_type": "stream",
     "text": [
      "enter a number = 123\n",
      "321\n"
     ]
    }
   ],
   "source": [
    "# reverse a number \n",
    "\n",
    "n = int(input(\"enter a number = \"))\n",
    "\n",
    "rev = 0\n",
    "\n",
    "while(n>0):\n",
    "    rem = n%10\n",
    "    rev = (rev*10)+rem\n",
    "    n = n//10\n",
    "\n",
    "print(rev)"
   ]
  },
  {
   "cell_type": "code",
   "execution_count": 5,
   "id": "c2be0ece",
   "metadata": {},
   "outputs": [
    {
     "data": {
      "text/plain": [
       "321"
      ]
     },
     "execution_count": 5,
     "metadata": {},
     "output_type": "execute_result"
    }
   ],
   "source": [
    "x = 123\n",
    "x = str(x)\n",
    "y = x[::-1]\n",
    "x = int(y)\n",
    "x"
   ]
  },
  {
   "cell_type": "code",
   "execution_count": null,
   "id": "a55a367b",
   "metadata": {},
   "outputs": [],
   "source": []
  }
 ],
 "metadata": {
  "kernelspec": {
   "display_name": "Python 3 (ipykernel)",
   "language": "python",
   "name": "python3"
  },
  "language_info": {
   "codemirror_mode": {
    "name": "ipython",
    "version": 3
   },
   "file_extension": ".py",
   "mimetype": "text/x-python",
   "name": "python",
   "nbconvert_exporter": "python",
   "pygments_lexer": "ipython3",
   "version": "3.10.9"
  }
 },
 "nbformat": 4,
 "nbformat_minor": 5
}
